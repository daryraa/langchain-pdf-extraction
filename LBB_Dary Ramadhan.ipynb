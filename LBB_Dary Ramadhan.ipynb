{
  "cells": [
    {
      "cell_type": "markdown",
      "id": "07f9b51b-5f1c-445e-abea-e9ec0d70a791",
      "metadata": {
        "id": "07f9b51b-5f1c-445e-abea-e9ec0d70a791"
      },
      "source": [
        "Nama : Dary Ramadhan Abdussalam"
      ]
    },
    {
      "cell_type": "markdown",
      "id": "cde306a8-ef17-44ab-a555-b5f38791dde6",
      "metadata": {
        "id": "cde306a8-ef17-44ab-a555-b5f38791dde6"
      },
      "source": [
        "# Business Understanding\n",
        "## Latar Belakang dan Tantangan yang Dihadapi\n",
        "\n",
        "Perusahaan atau organisasi sering kali memiliki banyak dokumen dalam format PDF yang berisi informasi penting, seperti laporan tahunan, dokumentasi produk, riset pasar, dan lainnya. Mengelola dan mengekstraksi informasi dari dokumen-dokumen ini bisa menjadi tugas yang sangat melelahkan dan memakan waktu. Tantangan utama yang dihadapi adalah:\n",
        "\n",
        "1. Volume Dokumen yang Besar: Banyaknya dokumen yang perlu diakses dan diproses secara manual sangat memakan waktu.\n",
        "2. Akses Informasi: Mengidentifikasi dan mengekstraksi informasi yang relevan dari dokumen besar atau banyak dokumen bisa sulit dan tidak efisien.\n",
        "3. Kebutuhan Beragam Pengguna: Berbagai divisi dalam perusahaan mungkin memerlukan informasi yang berbeda dari dokumen yang sama\n",
        "4. Bahasa Dokumen: Dokumen bisa tersedia dalam berbagai bahasa, sehingga menambah kompleksitas dalam mengekstraksi dan meringkas informasi.\n",
        "\n",
        "## Tujuan dan Solusi yang Diusulkan\n",
        "Tujuan utama dari proyek ini adalah untuk mengembangkan alat yang mampu membantu dalam mengekstraksi dan meringkas informasi dari dokumen PDF dengan cepat dan efisien. Solusi yang diusulkan adalah sistem interaktif berbasis yang dapat melakukan:\n",
        "\n",
        "1. Question and Answer (Q&A): Pengguna dapat mengajukan pertanyaan spesifik terkait konten dokumen dan mendapatkan jawaban langsung.\n",
        "2. Summarization: Pengguna dapat memperoleh ringkasan dari dokumen atau bagian tertentu dari dokumen dalam bahasa pilihan mereka (Inggris atau Indonesia).\n",
        "   \n",
        "Dengan sistem ini, diharapkan perusahaan dapat meningkatkan efisiensi dalam mengakses dan mengelola informasi penting dari dokumen PDF."
      ]
    },
    {
      "cell_type": "markdown",
      "id": "72a2373d-895c-4d9b-990b-56ac49eeeac3",
      "metadata": {
        "id": "72a2373d-895c-4d9b-990b-56ac49eeeac3"
      },
      "source": [
        "# Import Library"
      ]
    },
    {
      "cell_type": "code",
      "execution_count": null,
      "id": "2787f900-4c96-499f-a18f-7784c9e7a4ad",
      "metadata": {
        "id": "2787f900-4c96-499f-a18f-7784c9e7a4ad"
      },
      "outputs": [],
      "source": [
        "from langchain_google_genai import GoogleGenerativeAI\n",
        "from langchain_community.document_loaders import PyPDFLoader\n",
        "from langchain_google_genai import ChatGoogleGenerativeAI\n",
        "from langchain_core.prompts import PromptTemplate\n",
        "from langchain_core.runnables import RunnablePassthrough\n",
        "from langchain_core.output_parsers import StrOutputParser\n",
        "from langchain.llms import OpenAI\n",
        "from langchain.chains.question_answering import load_qa_chain\n",
        "from langchain.chains.summarize import load_summarize_chain\n",
        "import textwrap\n",
        "from langchain_google_genai import GoogleGenerativeAIEmbeddings\n",
        "from langchain_community.vectorstores import Chroma\n",
        "from dotenv import load_dotenv\n",
        "from langchain.text_splitter import RecursiveCharacterTextSplitter\n"
      ]
    },
    {
      "cell_type": "markdown",
      "id": "91243675-3ec5-4b13-a003-ac00146ef8e6",
      "metadata": {
        "id": "91243675-3ec5-4b13-a003-ac00146ef8e6"
      },
      "source": [
        "# Data Preparation"
      ]
    },
    {
      "cell_type": "markdown",
      "id": "c1523a56-dc20-4523-bef5-44f466062e98",
      "metadata": {
        "id": "c1523a56-dc20-4523-bef5-44f466062e98"
      },
      "source": [
        "## Memuat File .env dan Membuat Objek LLM"
      ]
    },
    {
      "cell_type": "code",
      "execution_count": null,
      "id": "155edf8a",
      "metadata": {
        "id": "155edf8a",
        "outputId": "cac5f6ab-7135-4be1-c6dc-7f99bcd6a5c1"
      },
      "outputs": [
        {
          "data": {
            "text/plain": [
              "True"
            ]
          },
          "execution_count": 2,
          "metadata": {},
          "output_type": "execute_result"
        }
      ],
      "source": [
        "# load file .env secara otomatis\n",
        "load_dotenv()"
      ]
    },
    {
      "cell_type": "code",
      "execution_count": null,
      "id": "42b5c831-0087-4df6-bd2a-4a51861a9e1d",
      "metadata": {
        "id": "42b5c831-0087-4df6-bd2a-4a51861a9e1d"
      },
      "outputs": [],
      "source": [
        "# membuat objek LLM menggunakan Gemini-pro\n",
        "gemini_10_pro = GoogleGenerativeAI(model = \"gemini-pro\")"
      ]
    },
    {
      "cell_type": "markdown",
      "id": "6d80cc9d-156d-4c04-8bbb-8b4e3da43f26",
      "metadata": {
        "id": "6d80cc9d-156d-4c04-8bbb-8b4e3da43f26"
      },
      "source": [
        "Pertama, kode load_dotenv() digunakan untuk memuat variabel lingkungan dari file .env secara otomatis, yang berguna untuk menyimpan informasi sensitif seperti kunci API. Kemudian, objek LLM (Language Model) dibuat menggunakan model gemini-pro dari Google Generative AI dengan kode gemini_10_pro = GoogleGenerativeAI(model = \"gemini-pro\")."
      ]
    },
    {
      "cell_type": "markdown",
      "id": "93fd5270-9a30-423b-8f1d-11192db66749",
      "metadata": {
        "id": "93fd5270-9a30-423b-8f1d-11192db66749"
      },
      "source": [
        "## Memproses Dokumen PDF"
      ]
    },
    {
      "cell_type": "code",
      "execution_count": null,
      "id": "228f79e2-2847-4e01-8268-425f130f59d7",
      "metadata": {
        "id": "228f79e2-2847-4e01-8268-425f130f59d7"
      },
      "outputs": [],
      "source": [
        "pdf_loader = PyPDFLoader('data_input/About_Bart.pdf', extract_images=True)\n",
        "pdf_data = pdf_loader.load()"
      ]
    },
    {
      "cell_type": "code",
      "execution_count": null,
      "id": "1f990217-c888-4424-b1d5-dbcab6313c7b",
      "metadata": {
        "id": "1f990217-c888-4424-b1d5-dbcab6313c7b",
        "outputId": "d1df7f8c-4f29-435c-db60-0bc97490ca0c"
      },
      "outputs": [
        {
          "data": {
            "text/plain": [
              "list"
            ]
          },
          "execution_count": 5,
          "metadata": {},
          "output_type": "execute_result"
        }
      ],
      "source": [
        "type(pdf_data)"
      ]
    },
    {
      "cell_type": "code",
      "execution_count": null,
      "id": "ebf4fd4e-ff67-4c48-8468-cbc5e4dc1f13",
      "metadata": {
        "id": "ebf4fd4e-ff67-4c48-8468-cbc5e4dc1f13",
        "outputId": "fea7ae4e-d63d-4994-9e82-93fe2a76574f"
      },
      "outputs": [
        {
          "data": {
            "text/plain": [
              "10"
            ]
          },
          "execution_count": 6,
          "metadata": {},
          "output_type": "execute_result"
        }
      ],
      "source": [
        "len(pdf_data)"
      ]
    },
    {
      "cell_type": "markdown",
      "id": "469e0f54-bc80-4858-a72f-d8e5dc4d4fd8",
      "metadata": {
        "id": "469e0f54-bc80-4858-a72f-d8e5dc4d4fd8"
      },
      "source": [
        "Dokumen PDF dimuat menggunakan pdf_loader = PyPDFLoader('data_input/About_Bart.pdf', extract_images=True), yang membuat objek loader untuk memuat file PDF About_Bart.pdf dari direktori data_input dan mengekstrak gambar jika ada. Data dari PDF tersebut kemudian diambil dan disimpan dalam variabel pdf_data dengan pdf_data = pdf_loader.load(). Tipe data dan jumlah halaman atau elemen dalam data PDF tersebut diperiksa menggunakan type(pdf_data) dan len(pdf_data)."
      ]
    },
    {
      "cell_type": "markdown",
      "id": "23e2eb66-b37a-4bf7-8ab7-3ef6efb502d6",
      "metadata": {
        "id": "23e2eb66-b37a-4bf7-8ab7-3ef6efb502d6"
      },
      "source": [
        "## Membagi Dokumen Menjadi Potongan-potongan Lebih Kecil"
      ]
    },
    {
      "cell_type": "code",
      "execution_count": null,
      "id": "852dba40-eccd-4e90-8584-1014627a3639",
      "metadata": {
        "id": "852dba40-eccd-4e90-8584-1014627a3639"
      },
      "outputs": [],
      "source": [
        "text_splitter = RecursiveCharacterTextSplitter(\n",
        "    chunk_size = 1000,\n",
        "    chunk_overlap = 450,\n",
        "    separators=[\n",
        "                \"\\n\\n\",\n",
        "                \"\\n\",\n",
        "                \" \",\n",
        "                \".\",\n",
        "                \",\",\n",
        "                \"\\u200b\",  # zero-width space\n",
        "                \"\\uff0c\",  # full-width comma\n",
        "                \"\\u3001\",  # ideographic comma\n",
        "                \"\\uff0e\",  # full-width full stop\n",
        "                \"\\u3002\",  # ideographic full stop\n",
        "                \"\",\n",
        "            ])\n",
        "\n",
        "splits = text_splitter.split_documents(pdf_data)"
      ]
    },
    {
      "cell_type": "code",
      "execution_count": null,
      "id": "bc5fa8aa-d2b9-4b01-bcd0-8387ea9bb295",
      "metadata": {
        "id": "bc5fa8aa-d2b9-4b01-bcd0-8387ea9bb295",
        "outputId": "8563e87d-7c5a-4485-ccd3-c58b89e2170e"
      },
      "outputs": [
        {
          "data": {
            "text/plain": [
              "list"
            ]
          },
          "execution_count": 8,
          "metadata": {},
          "output_type": "execute_result"
        }
      ],
      "source": [
        "type(splits)"
      ]
    },
    {
      "cell_type": "code",
      "execution_count": null,
      "id": "54be9fa9-54a8-480c-8467-950ed8246f13",
      "metadata": {
        "id": "54be9fa9-54a8-480c-8467-950ed8246f13",
        "outputId": "edd57127-737f-4bc9-8b80-48923b6055e2"
      },
      "outputs": [
        {
          "data": {
            "text/plain": [
              "76"
            ]
          },
          "execution_count": 9,
          "metadata": {},
          "output_type": "execute_result"
        }
      ],
      "source": [
        "len(splits)"
      ]
    },
    {
      "cell_type": "markdown",
      "id": "75bbfa46-0b56-4276-b951-3b2ab705a7b2",
      "metadata": {
        "id": "75bbfa46-0b56-4276-b951-3b2ab705a7b2"
      },
      "source": [
        "Untuk membagi dokumen menjadi potongan-potongan teks yang lebih kecil, dibuat objek text_splitter menggunakan RecursiveCharacterTextSplitter, yang diatur dengan ukuran 1000 karakter dan tumpang tindih sebesar 450 karakter, serta menggunakan berbagai jenis spasi dan tanda baca sebagai pemisah. Dokumen PDF yang sudah dimuat kemudian dibagi menjadi beberapa potongan teks berdasarkan pengaturan ini dengan splits = text_splitter.split_documents(pdf_data). Tipe data dan jumlah potongan teks yang dihasilkan diperiksa dengan type(splits) dan len(splits)."
      ]
    },
    {
      "cell_type": "markdown",
      "id": "d4e7a92f-caf9-4213-b761-08a2caa14db2",
      "metadata": {
        "id": "d4e7a92f-caf9-4213-b761-08a2caa14db2"
      },
      "source": [
        "## Membuat dan Memuat Vectorstore"
      ]
    },
    {
      "cell_type": "code",
      "execution_count": null,
      "id": "6faa3746-6900-40e6-a03f-e0028c2ba66f",
      "metadata": {
        "id": "6faa3746-6900-40e6-a03f-e0028c2ba66f"
      },
      "outputs": [],
      "source": [
        "def create_vectorstore_folder(documents, embedding, persist_directory):\n",
        "    vectorstore = Chroma.from_documents(\n",
        "        documents = documents,\n",
        "        embedding = embedding,\n",
        "        persist_directory = persist_directory\n",
        "    )\n",
        "\n",
        "    return vectorstore"
      ]
    },
    {
      "cell_type": "code",
      "execution_count": null,
      "id": "b8a96bed-12b6-447a-ab7e-f63172c9c6fe",
      "metadata": {
        "id": "b8a96bed-12b6-447a-ab7e-f63172c9c6fe"
      },
      "outputs": [],
      "source": [
        "# vectorstore_gemini = create_vectorstore_folder(\n",
        "#     documents = splits,\n",
        "#     embedding = GoogleGenerativeAIEmbeddings(model=\"models/embedding-001\"),\n",
        "#     persist_directory = 'data_input/embedding_data'\n",
        "# )"
      ]
    },
    {
      "cell_type": "code",
      "execution_count": null,
      "id": "cc9a6acf-3a03-48fa-9426-2bef5f2d9a43",
      "metadata": {
        "id": "cc9a6acf-3a03-48fa-9426-2bef5f2d9a43"
      },
      "outputs": [],
      "source": [
        "# memanggil embedding dari directory yang sudah disimpan\n",
        "vec_gemini = Chroma(persist_directory = 'data_input/embedding_data',\n",
        "                    embedding_function = GoogleGenerativeAIEmbeddings(model=\"models/embedding-001\"))"
      ]
    },
    {
      "cell_type": "markdown",
      "id": "c8981ece-e4bc-4936-bade-3a312a3c2828",
      "metadata": {
        "id": "c8981ece-e4bc-4936-bade-3a312a3c2828"
      },
      "source": [
        "Fungsi create_vectorstore_folder dibuat untuk membuat dan menyimpan vectorstore yang berisi embedding dari dokumen yang telah dibagi, menggunakan Chroma.from_documents. Vectorstore tersebut disimpan di direktori yang ditentukan. Meskipun pembuatan vectorstore di bagian ini dikomentari, vectorstore yang sudah disimpan kemudian dipanggil dengan vec_gemini = Chroma(persist_directory = 'data_input/embedding_data', embedding_function = GoogleGenerativeAIEmbeddings(model=\"models/embedding-001\"))."
      ]
    },
    {
      "cell_type": "markdown",
      "id": "9cfdc1e3-34e0-4b53-9b98-8e5ad95faf5a",
      "metadata": {
        "id": "9cfdc1e3-34e0-4b53-9b98-8e5ad95faf5a"
      },
      "source": [
        "## Membuat Template Q&A dan Chain"
      ]
    },
    {
      "cell_type": "code",
      "execution_count": null,
      "id": "801ff6e7-38a3-4480-9687-2a06a33cdef6",
      "metadata": {
        "id": "801ff6e7-38a3-4480-9687-2a06a33cdef6"
      },
      "outputs": [],
      "source": [
        "def format_docs(docs):\n",
        "    return \"\\n\\n\".join(doc.page_content for doc in docs)"
      ]
    },
    {
      "cell_type": "code",
      "execution_count": null,
      "id": "887f5607-982b-4051-ae63-f100c785a96e",
      "metadata": {
        "id": "887f5607-982b-4051-ae63-f100c785a96e"
      },
      "outputs": [],
      "source": [
        "qa_template = \"\"\"\n",
        "    Anda adalah asisten yang hebat dalam memahami konteks tambahan.\n",
        "\n",
        "    Gunakan potongan konteks berikut untuk menjawab pertanyaan di akhir.\n",
        "    Gunakan minimal tiga kalimat untuk menjawab pertanyaan tersebut.\n",
        "    Usahakan untuk menjawab sekomplet mungkin dengan gaya bahasa yang mudah dimengerti.\n",
        "    Selalu akhiri jawaban dengan \"terima kasih atas pertanyaannya!\".\n",
        "\n",
        "    {context}\n",
        "\n",
        "    Pertanyaan: {question}\n",
        "\n",
        "    Jawaban yang Bermanfaat:\"\"\"\n",
        "\n",
        "custom_rag_prompt = PromptTemplate.from_template(qa_template)\n"
      ]
    },
    {
      "cell_type": "code",
      "execution_count": null,
      "id": "76a84c0f-8edd-4f0d-85f4-146804ee9f12",
      "metadata": {
        "id": "76a84c0f-8edd-4f0d-85f4-146804ee9f12"
      },
      "outputs": [],
      "source": [
        "def create_qa_chain(retriever, llm):\n",
        "\n",
        "    rag_chain = (\n",
        "        {\"context\": retriever | format_docs, \"question\": RunnablePassthrough()}\n",
        "        | custom_rag_prompt\n",
        "        | llm\n",
        "        | StrOutputParser()\n",
        "    )\n",
        "\n",
        "    return rag_chain"
      ]
    },
    {
      "cell_type": "code",
      "execution_count": null,
      "id": "83d971e2-dfc3-46dd-86c4-12e0fd317a42",
      "metadata": {
        "id": "83d971e2-dfc3-46dd-86c4-12e0fd317a42"
      },
      "outputs": [],
      "source": [
        "gemini_chain = create_qa_chain(retriever = vec_gemini.as_retriever(), llm = ChatGoogleGenerativeAI(model = \"gemini-pro\"))"
      ]
    },
    {
      "cell_type": "markdown",
      "id": "d8374d19-9f37-4942-b643-b80d89516454",
      "metadata": {
        "id": "d8374d19-9f37-4942-b643-b80d89516454"
      },
      "source": [
        "## Menampilkan Output Q&A"
      ]
    },
    {
      "cell_type": "code",
      "execution_count": null,
      "id": "49474100-7bfd-4250-8947-9846c11e5e82",
      "metadata": {
        "scrolled": true,
        "id": "49474100-7bfd-4250-8947-9846c11e5e82",
        "outputId": "fc50bbce-d6ad-42ee-e6b0-bf8681827484"
      },
      "outputs": [
        {
          "name": "stdout",
          "output_type": "stream",
          "text": [
            "BART (Bidirectional Auto-Regressive Transformers) adalah model bahasa yang menggabungkan pemahaman\n",
            "dan pembangkitan bahasa alami. BART dilatih pada sejumlah besar teks dan dapat digunakan untuk\n",
            "berbagai tugas pemrosesan bahasa alami, termasuk generasi teks, terjemahan mesin, dan menjawab\n",
            "pertanyaan. Berbeda dengan model bahasa lain, BART menggunakan dekoder autoregresif, yang berarti\n",
            "setiap kata diprediksi berdasarkan kata-kata sebelumnya dalam urutan. Hal ini memungkinkan BART\n",
            "untuk menghasilkan teks yang koheren dan gramatikal. Terima kasih atas pertanyaannya!\n"
          ]
        }
      ],
      "source": [
        "#Testing\n",
        "print(\n",
        "    textwrap.fill(\n",
        "        gemini_chain.invoke(\"Apa itu BART\")  ,\n",
        "        width=100\n",
        "    )\n",
        ")"
      ]
    },
    {
      "cell_type": "markdown",
      "id": "21158cbb-1e62-446a-99df-2a4891d13bcb",
      "metadata": {
        "id": "21158cbb-1e62-446a-99df-2a4891d13bcb"
      },
      "source": [
        "# Summarization"
      ]
    },
    {
      "cell_type": "code",
      "execution_count": null,
      "id": "aa9c835a-1f8b-4b53-bb2d-11f7ecf2bf17",
      "metadata": {
        "id": "aa9c835a-1f8b-4b53-bb2d-11f7ecf2bf17"
      },
      "outputs": [],
      "source": [
        "trans_ts_loader = PyPDFLoader('data_input/About_Bart.pdf')\n",
        "trans_ts_content = trans_ts_loader.load()"
      ]
    },
    {
      "cell_type": "code",
      "execution_count": null,
      "id": "760fb100-e913-4f9c-a65f-b0c51f47f270",
      "metadata": {
        "id": "760fb100-e913-4f9c-a65f-b0c51f47f270"
      },
      "outputs": [],
      "source": [
        "summary_template_ind = \"\"\"\n",
        "    Anda adalah asisten yang hebat dalam meringkas teks berikut.\n",
        "\n",
        "    Berikan ringkasan dari teks berikut.\n",
        "    Ringkasan harus umum dan tidak lebih dari lima kalimat.\n",
        "\n",
        "    Teks:\n",
        "    ```{text}```\n",
        "\n",
        "    Ringkasan:\n",
        "\"\"\""
      ]
    },
    {
      "cell_type": "code",
      "execution_count": null,
      "id": "09d6a1c8-4a82-4945-9390-ead8db94c890",
      "metadata": {
        "id": "09d6a1c8-4a82-4945-9390-ead8db94c890"
      },
      "outputs": [],
      "source": [
        "summary_template_eng = \"\"\"\n",
        "    You are the great assistant in summarizing the following passage.\n",
        "\n",
        "    Provide a summary of the following passage.\n",
        "    The summary should be general and no longer than five sentences.\n",
        "\n",
        "    Passage:\n",
        "    ```{text}```\n",
        "\n",
        "    Summary:\n",
        "\"\"\"\n"
      ]
    },
    {
      "cell_type": "code",
      "execution_count": null,
      "id": "1b27fa32-13ac-4613-9ca9-c1c2ebf3dfb6",
      "metadata": {
        "id": "1b27fa32-13ac-4613-9ca9-c1c2ebf3dfb6"
      },
      "outputs": [],
      "source": [
        "custom_summary_prompt_eng = PromptTemplate.from_template(summary_template_eng)\n",
        "custom_summary_prompt_ind = PromptTemplate.from_template(summary_template_ind)"
      ]
    },
    {
      "cell_type": "code",
      "execution_count": null,
      "id": "55e3900b-9041-4989-b52e-d1618477a7c2",
      "metadata": {
        "id": "55e3900b-9041-4989-b52e-d1618477a7c2"
      },
      "outputs": [],
      "source": [
        "def create_summary_chain(llm, prompt):\n",
        "    summary_chain = {'text':RunnablePassthrough()} | prompt | llm | StrOutputParser()\n",
        "    return summary_chain"
      ]
    },
    {
      "cell_type": "code",
      "execution_count": null,
      "id": "dd0e8767-554e-403a-882a-49943d5a314c",
      "metadata": {
        "id": "dd0e8767-554e-403a-882a-49943d5a314c"
      },
      "outputs": [],
      "source": [
        "llm_gemini = ChatGoogleGenerativeAI(model=\"gemini-pro\")"
      ]
    },
    {
      "cell_type": "code",
      "execution_count": null,
      "id": "ef1c01f3-b9dc-42e0-8d7c-69521c335392",
      "metadata": {
        "id": "ef1c01f3-b9dc-42e0-8d7c-69521c335392"
      },
      "outputs": [],
      "source": [
        "gemini_summarizer_en = create_summary_chain(llm=llm_gemini, prompt=custom_summary_prompt_eng)\n",
        "gemini_summarizer_id = create_summary_chain(llm=llm_gemini, prompt=custom_summary_prompt_ind)\n"
      ]
    },
    {
      "cell_type": "code",
      "execution_count": null,
      "id": "78ffda24-fef0-40d5-bc2d-ca315f316a5c",
      "metadata": {
        "scrolled": true,
        "id": "78ffda24-fef0-40d5-bc2d-ca315f316a5c",
        "outputId": "3e39bde5-1ada-4f34-fcd6-2edfdd2987ac"
      },
      "outputs": [
        {
          "name": "stdout",
          "output_type": "stream",
          "text": [
            "BART, a pre-training model, combines unidirectional and bidirectional transformers. It\n",
            "outperforms other models on text generation and comprehension tasks. BART can map\n",
            "corrupted text to the original text. The model is trained by corrupting text and\n",
            "optimizing a reconstruction loss. BART can be used in several ways for downstream\n",
            "applications, including sequence classification, token classification, sequence\n",
            "generation, and machine translation.\n"
          ]
        }
      ],
      "source": [
        "# Menampilkan ringkasan\n",
        "print(\n",
        "    textwrap.fill(\n",
        "        gemini_summarizer_en.invoke({'text': trans_ts_content}),\n",
        "        width=90\n",
        "    )\n",
        ")"
      ]
    },
    {
      "cell_type": "code",
      "execution_count": null,
      "id": "aa7b0e1e-2e75-44ec-bb16-d92e42f68ca1",
      "metadata": {
        "id": "aa7b0e1e-2e75-44ec-bb16-d92e42f68ca1",
        "outputId": "7db65da5-c3e7-4811-cacc-9e505ca1a87e"
      },
      "outputs": [
        {
          "name": "stdout",
          "output_type": "stream",
          "text": [
            "BART adalah model pra-latihan denoising urutan ke urutan yang dapat digunakan untuk\n",
            "berbagai tugas pemrosesan bahasa alami. BART dilatih dengan mengaburkan teks dan\n",
            "mempelajari model untuk membangun kembali teks asli. Model ini menggabungkan penyandian\n",
            "dua arah dan dekoder autoregresif, yang memungkinkannya digunakan untuk tugas pembuatan,\n",
            "pemahaman, dan terjemahan bahasa. BART menunjukkan kinerja yang sebanding dengan model\n",
            "pra-latihan yang canggih pada tugas diskriminatif dan mencapai hasil terbaik pada sejumlah\n",
            "tugas generasi teks. Selain itu, BART dapat digunakan untuk meningkatkan dekoder\n",
            "terjemahan mesin, yang menunjukkan fleksibilitasnya dalam berbagai tugas.\n"
          ]
        }
      ],
      "source": [
        "# Menampilkan ringkasan\n",
        "print(\n",
        "    textwrap.fill(\n",
        "        gemini_summarizer_id.invoke({'text': trans_ts_content}),\n",
        "        width=90\n",
        "    )\n",
        ")"
      ]
    },
    {
      "cell_type": "markdown",
      "id": "cac62beb-557e-4896-ba8b-929cf114784f",
      "metadata": {
        "id": "cac62beb-557e-4896-ba8b-929cf114784f"
      },
      "source": [
        "# Sistem yang dijadikan satu"
      ]
    },
    {
      "cell_type": "code",
      "execution_count": null,
      "id": "27ea782d-5b48-46a2-a844-a57f66601708",
      "metadata": {
        "scrolled": true,
        "id": "27ea782d-5b48-46a2-a844-a57f66601708",
        "outputId": "432e24cd-edaa-43fe-ece0-ed5c609ed61d"
      },
      "outputs": [
        {
          "name": "stdout",
          "output_type": "stream",
          "text": [
            "\u001b[1mAsk The PDF!\u001b[0m\n",
            "\n",
            "\u001b[1mMenu:\u001b[0m\n",
            "1. Q&A\n",
            "2. Summarization\n",
            "0. Exit\n",
            "\n"
          ]
        },
        {
          "name": "stdin",
          "output_type": "stream",
          "text": [
            "Select an option:  1\n"
          ]
        },
        {
          "name": "stdout",
          "output_type": "stream",
          "text": [
            "\u001b[1mQuestion:\u001b[0m\n"
          ]
        },
        {
          "name": "stdin",
          "output_type": "stream",
          "text": [
            " apa itu bart\n"
          ]
        },
        {
          "name": "stdout",
          "output_type": "stream",
          "text": [
            "\u001b[1mResponse:\u001b[0m\n",
            "BART (Bidirectional Auto-Regressive Transformers) adalah model bahasa yang dilatih pada\n",
            "sejumlah besar teks untuk memahami dan menghasilkan bahasa alami. BART didasarkan pada\n",
            "arsitektur Transformer, yang memungkinkan model untuk memproses urutan data secara\n",
            "paralel, menangkap hubungan antara elemen yang jauh dalam urutan tersebut. BART telah\n",
            "menunjukkan kinerja yang kuat dalam berbagai tugas pemrosesan bahasa alami, termasuk\n",
            "ringkasan teks, terjemahan mesin, dan menjawab pertanyaan. Terima kasih atas\n",
            "pertanyaannya!\n",
            "\n",
            "\u001b[1mQuestion:\u001b[0m\n"
          ]
        },
        {
          "name": "stdin",
          "output_type": "stream",
          "text": [
            " bagaimana cara finetuning bart\n"
          ]
        },
        {
          "name": "stdout",
          "output_type": "stream",
          "text": [
            "\u001b[1mResponse:\u001b[0m\n",
            "Untuk melakukan fine-tuning pada BART, ada dua pendekatan umum:  1. Masukkan data yang\n",
            "sama ke dalam encoder dan decoder, lalu gunakan representasi dari keluaran akhir. 2.\n",
            "Pelajari encoder tambahan kecil yang dapat menggantikan penyematan kata dalam BART, yang\n",
            "memungkinkan penggunaan kosakata yang berbeda.  Pendekatan mana yang lebih baik tergantung\n",
            "pada tugas yang sedang dilakukan. Terima kasih atas pertanyaannya!\n",
            "\n",
            "\u001b[1mQuestion:\u001b[0m\n"
          ]
        },
        {
          "name": "stdin",
          "output_type": "stream",
          "text": [
            " apa itu denoising\n"
          ]
        },
        {
          "name": "stdout",
          "output_type": "stream",
          "text": [
            "\u001b[1mResponse:\u001b[0m\n",
            "Denoising adalah proses menghilangkan gangguan atau kebisingan dari data, dengan tujuan\n",
            "memulihkan sinyal atau informasi asli. Dalam konteks transformasi teks, denoising mengacu\n",
            "pada teknik yang digunakan untuk memulihkan teks asli dari teks yang telah diganggu atau\n",
            "dirusak. Teknik denoising dapat digunakan untuk memperbaiki kesalahan atau gangguan yang\n",
            "disebabkan oleh berbagai faktor, seperti kesalahan penulisan, kesalahan transmisi, atau\n",
            "gangguan lainnya.  Terima kasih atas pertanyaannya!\n",
            "\n",
            "\u001b[1mQuestion:\u001b[0m\n"
          ]
        },
        {
          "name": "stdin",
          "output_type": "stream",
          "text": [
            " metrik apa yang digunakan untuk mengukur bart\n"
          ]
        },
        {
          "name": "stdout",
          "output_type": "stream",
          "text": [
            "\u001b[1mResponse:\u001b[0m\n",
            "Teks yang diberikan tidak menyebutkan metrik yang digunakan untuk mengukur BART. Oleh\n",
            "karena itu, saya tidak dapat menjawab pertanyaan ini.  Terima kasih atas pertanyaan Anda!\n",
            "\n",
            "\u001b[1mQuestion:\u001b[0m\n"
          ]
        },
        {
          "name": "stdin",
          "output_type": "stream",
          "text": [
            " Coba rangkumkan terkait BART\n"
          ]
        },
        {
          "name": "stdout",
          "output_type": "stream",
          "text": [
            "\u001b[1mResponse:\u001b[0m\n",
            "BART (Bidirectional Auto-Regressive Transformers) adalah model pretraining yang\n",
            "menggabungkan pemahaman bahasa alami dan generasi. BART dilatih pada sejumlah besar teks,\n",
            "termasuk artikel berita, buku, dan dokumen lainnya. Pelatihan ini memungkinkan BART untuk\n",
            "mempelajari hubungan antara kata-kata dan frasa, serta cara menghasilkan teks yang koheren\n",
            "dan informatif. BART telah digunakan untuk berbagai tugas pemrosesan bahasa alami,\n",
            "termasuk ringkasan teks, terjemahan mesin, dan tanya jawab.  Terima kasih atas pertanyaan\n",
            "Anda!\n",
            "\n",
            "\u001b[1mQuestion:\u001b[0m\n"
          ]
        },
        {
          "name": "stdin",
          "output_type": "stream",
          "text": [
            " quit\n"
          ]
        },
        {
          "name": "stdout",
          "output_type": "stream",
          "text": [
            "\u001b[1mMenu:\u001b[0m\n",
            "1. Q&A\n",
            "2. Summarization\n",
            "0. Exit\n",
            "\n"
          ]
        },
        {
          "name": "stdin",
          "output_type": "stream",
          "text": [
            "Select an option:  2\n"
          ]
        },
        {
          "name": "stdout",
          "output_type": "stream",
          "text": [
            "Choose language for summarization:\n",
            "1. English\n",
            "2. Indonesian\n"
          ]
        },
        {
          "name": "stdin",
          "output_type": "stream",
          "text": [
            " 1\n"
          ]
        },
        {
          "name": "stdout",
          "output_type": "stream",
          "text": [
            "\u001b[1mSummary:\u001b[0m\n",
            "BART, a Bidirectional and Auto-Regressive Transformer, is a denoising sequence-to-sequence\n",
            "pre-training model. It is trained by corrupting text with an arbitrary noising function\n",
            "and then learning a model to reconstruct the original text. BART is particularly effective\n",
            "when fine-tuned for text generation, but also works well for comprehension tasks. It\n",
            "matches the performance of RoBERTa on GLUE and SQuAD, and achieves new state-of-the-art\n",
            "results on a range of abstractive dialogue, question answering, and summarization tasks.\n",
            "BART also provides a 1.1 BLEU increase over a back-translation system for machine\n",
            "translation, with only target language pretraining.\n",
            "\n",
            "\u001b[1mMenu:\u001b[0m\n",
            "1. Q&A\n",
            "2. Summarization\n",
            "0. Exit\n",
            "\n"
          ]
        },
        {
          "name": "stdin",
          "output_type": "stream",
          "text": [
            "Select an option:  2\n"
          ]
        },
        {
          "name": "stdout",
          "output_type": "stream",
          "text": [
            "Choose language for summarization:\n",
            "1. English\n",
            "2. Indonesian\n"
          ]
        },
        {
          "name": "stdin",
          "output_type": "stream",
          "text": [
            " 2\n"
          ]
        },
        {
          "name": "stdout",
          "output_type": "stream",
          "text": [
            "\u001b[1mSummary:\u001b[0m\n",
            "BART, sebuah model pembelajaran mesin, telah menunjukkan hasil yang mengesankan dalam\n",
            "berbagai tugas pemrosesan bahasa alami seperti menjawab pertanyaan, pembuatan ringkasan,\n",
            "dan terjemahan mesin. Model ini mampu mempelajari beragam teknik gangguan teks dan dapat\n",
            "disesuaikan dengan tugas akhir yang spesifik. BART telah terbukti berkinerja setara dengan\n",
            "model mutakhir lainnya pada tugas diskriminatif dan menunjukkan hasil terbaik secara\n",
            "konsisten pada berbagai tugas generasi.\n",
            "\n",
            "\u001b[1mMenu:\u001b[0m\n",
            "1. Q&A\n",
            "2. Summarization\n",
            "0. Exit\n",
            "\n"
          ]
        },
        {
          "name": "stdin",
          "output_type": "stream",
          "text": [
            "Select an option:  0\n"
          ]
        },
        {
          "name": "stdout",
          "output_type": "stream",
          "text": [
            "Exiting\n"
          ]
        },
        {
          "ename": "SystemExit",
          "evalue": "",
          "output_type": "error",
          "traceback": [
            "An exception has occurred, use %tb to see the full traceback.\n",
            "\u001b[1;31mSystemExit\u001b[0m\n"
          ]
        },
        {
          "name": "stderr",
          "output_type": "stream",
          "text": [
            "E:\\anaconda3\\envs\\dss_may2024\\lib\\site-packages\\IPython\\core\\interactiveshell.py:3585: UserWarning: To exit: use 'exit', 'quit', or Ctrl-D.\n",
            "  warn(\"To exit: use 'exit', 'quit', or Ctrl-D.\", stacklevel=1)\n"
          ]
        }
      ],
      "source": [
        "import sys\n",
        "\n",
        "def main_menu():\n",
        "    print(\"\\033[1mMenu:\\033[0m\")\n",
        "    print(\"1. Q&A\")\n",
        "    print(\"2. Summarization\")\n",
        "    print(\"0. Exit\")\n",
        "    print('')\n",
        "\n",
        "def qa_mode():\n",
        "    while True:\n",
        "        print('\\033[1mQuestion:\\033[0m')\n",
        "        query = input('')\n",
        "        if query.lower() in [\"exit\", \"quit\", \"q\", \"0\"]:\n",
        "            return\n",
        "\n",
        "        print('\\033[1mResponse:\\033[0m')\n",
        "        response = textwrap.fill(gemini_chain.invoke(query), width=90)\n",
        "        print(response)\n",
        "        print('')\n",
        "\n",
        "def summarization_mode():\n",
        "    print(\"Choose language for summarization:\")\n",
        "    print(\"1. English\")\n",
        "    print(\"2. Indonesian\")\n",
        "    lang_choice = input('')\n",
        "\n",
        "    if lang_choice not in [\"1\", \"2\"]:\n",
        "        print(\"Invalid choice. Returning to main menu.\")\n",
        "        return\n",
        "\n",
        "    # Memuat konten PDF\n",
        "    trans_ts_loader = PyPDFLoader('data_input/About_Bart.pdf')\n",
        "    trans_ts_content = trans_ts_loader.load()\n",
        "\n",
        "    if lang_choice == \"1\":\n",
        "        gemini_summarizer = gemini_summarizer_en\n",
        "    else:\n",
        "        gemini_summarizer = gemini_summarizer_id\n",
        "\n",
        "    print('\\033[1mSummary:\\033[0m')\n",
        "    summary = textwrap.fill(gemini_summarizer.invoke({'text': trans_ts_content}), width=90)\n",
        "    print(summary)\n",
        "    print('')\n",
        "\n",
        "print(\"\\033[1mAsk The PDF!\\033[0m\")\n",
        "print('')\n",
        "\n",
        "while True:\n",
        "    main_menu()\n",
        "    choice = input('Select an option: ')\n",
        "\n",
        "    if choice == '1':\n",
        "        qa_mode()\n",
        "    elif choice == '2':\n",
        "        summarization_mode()\n",
        "    elif choice == '0':\n",
        "        print('Exiting')\n",
        "        sys.exit()\n",
        "    else:\n",
        "        print(\"Invalid choice. Please select a valid option.\")\n",
        "        print('')"
      ]
    },
    {
      "cell_type": "markdown",
      "id": "90f65424-f8c8-4e88-b7a4-65ad6f166562",
      "metadata": {
        "id": "90f65424-f8c8-4e88-b7a4-65ad6f166562"
      },
      "source": [
        "# Kesimpulan\n",
        "\n",
        "Dengan sistem ini, perusahaan dapat dengan mudah mengunggah dokumen PDF, mengajukan pertanyaan, dan mendapatkan ringkasan dalam bahasa pilihan mereka. Ini akan menghemat waktu dan meningkatkan efisiensi dalam pengelolaan informasi dari dokumen PDF, memungkinkan berbagai tim untuk mengakses informasi yang relevan dengan cepat dan akurat."
      ]
    }
  ],
  "metadata": {
    "kernelspec": {
      "display_name": "Python 3 (ipykernel)",
      "language": "python",
      "name": "python3"
    },
    "language_info": {
      "codemirror_mode": {
        "name": "ipython",
        "version": 3
      },
      "file_extension": ".py",
      "mimetype": "text/x-python",
      "name": "python",
      "nbconvert_exporter": "python",
      "pygments_lexer": "ipython3",
      "version": "3.10.14"
    },
    "colab": {
      "provenance": []
    }
  },
  "nbformat": 4,
  "nbformat_minor": 5
}